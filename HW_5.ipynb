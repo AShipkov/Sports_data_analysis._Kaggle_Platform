{
  "nbformat": 4,
  "nbformat_minor": 0,
  "metadata": {
    "accelerator": "GPU",
    "colab": {
      "name": "Untitled31.ipynb",
      "provenance": [],
      "machine_shape": "hm"
    },
    "kernelspec": {
      "display_name": "Python 3",
      "name": "python3"
    },
    "language_info": {
      "name": "python"
    }
  },
  "cells": [
    {
      "cell_type": "markdown",
      "metadata": {
        "id": "6CghQurtyc-p"
      },
      "source": [
        "Урок 5. Feature Engineering, Feature Selection, part I"
      ]
    },
    {
      "cell_type": "markdown",
      "metadata": {
        "id": "quQA4plVyY_v"
      },
      "source": [
        "Задание 0: выбрать любую модель машнного обучения и зафиксировать любой тип валидации. Обучить базовую модель и зафиксировать базовое качество модели. В каждом следующем задании нужно будет обучить выбранную модель и оценивать ее качество на зафиксированной схеме валидации. После каждого задания, требуется сделать вывод о достигаемом качестве модели, по сравнению с качестом из предыдущего шага.\n",
        "\n",
        "Задание 1: признак TransactionDT - это смещение в секундах относительно базовой даты. Базовая дата - 2017-12-01, преобразовать признак TransactionDT в datetime, прибавив к базовой дате исходное значение признака. Из полученного признака выделить год, месяц, день недели, час, день.\n",
        "\n",
        "Задание 2: сделать конкатенацию признаков\n",
        "* card1 + card2;\n",
        "* card1 + card2 + card_3 + card_5;\n",
        "* card1 + card2 + card_3 + card_5 + addr1 + addr2\n",
        "\n",
        "Рассматривать их как категориальных признаки.\n",
        "\n",
        "Задание 3: Сделать FrequencyEncoder для признаков card1 - card6, addr1, addr2.\n",
        "\n",
        "Задание 4: Создать признаки на основе отношения: TransactionAmt к вычисленной статистике. Статистика - среднее значение / стандартное отклонение TransactionAmt, сгруппированное по card1 - card6, addr1, addr2, и по признакам, созданным в задании 2.\n",
        "\n",
        "Задание 5: Создать признаки на основе отношения: D15 к вычисленной статистике. Статистика - среднее значение / стандартное отклонение D15, сгруппированное по card1 - card6, addr1, addr2, и по признакам, созданным в задании 2.\n",
        "\n",
        "Задание 6: выделить дробную часть и целую часть признака TransactionAmt в два отдельных признака. После создать отдельных признак - логарифм от TransactionAmt\n",
        "\n",
        "Задание 7 (опция): выполнить предварительную подготовку / очистку признаков P_emaildomain и R_emaildomain (что и как делать - остается на ваше усмотрение) и сделать Frequency Encoding для очищенных признаков."
      ]
    },
    {
      "cell_type": "code",
      "metadata": {
        "id": "1NkhthhUx6IK"
      },
      "source": [
        "import numpy as np\n",
        "import pandas as pd\n",
        "from sklearn.metrics import roc_auc_score\n",
        "from sklearn.model_selection import KFold \n",
        "from sklearn.model_selection import train_test_split \n",
        "from sklearn.preprocessing import LabelEncoder\n",
        "import lightgbm as lgb"
      ],
      "execution_count": null,
      "outputs": []
    },
    {
      "cell_type": "code",
      "metadata": {
        "id": "VGlnT6kPy3Aj"
      },
      "source": [
        "import warnings\n",
        "warnings.simplefilter(\"ignore\")\n",
        "pd.options.display.max_columns = 450"
      ],
      "execution_count": null,
      "outputs": []
    },
    {
      "cell_type": "code",
      "metadata": {
        "colab": {
          "base_uri": "https://localhost:8080/"
        },
        "id": "1jwv2-LVzV-i",
        "outputId": "5acdcd8e-45c5-4587-86b2-fadb3773e802"
      },
      "source": [
        "!unzip /content/drive/MyDrive/assignment2_data.zip"
      ],
      "execution_count": null,
      "outputs": [
        {
          "output_type": "stream",
          "name": "stdout",
          "text": [
            "Archive:  /content/drive/MyDrive/assignment2_data.zip\n",
            "  inflating: assignment_2_test.csv   \n",
            "  inflating: assignment_2_train.csv  \n"
          ]
        }
      ]
    },
    {
      "cell_type": "code",
      "metadata": {
        "id": "ET67OHJgy8_M"
      },
      "source": [
        "data = pd.read_csv('/content/assignment_2_train.csv')\n",
        "lb = pd.read_csv('/content/assignment_2_test.csv')\n",
        "\n",
        "X_data = data.drop('isFraud', axis=1)\n",
        "y_data = data['isFraud']\n",
        "\n",
        "X_lb = lb.drop('isFraud', axis=1)\n",
        "y_lb = lb['isFraud']\n",
        "\n",
        "stata = pd.DataFrame(columns=['train_mean', 'train_std', 'valid_mean', 'valid_std', \\\n",
        "                              'valid_conf_interval','auc_lb'])"
      ],
      "execution_count": null,
      "outputs": []
    },
    {
      "cell_type": "markdown",
      "metadata": {
        "id": "gXqtFGpEzuS_"
      },
      "source": [
        "# Задание 0"
      ]
    },
    {
      "cell_type": "code",
      "metadata": {
        "colab": {
          "base_uri": "https://localhost:8080/",
          "height": 222
        },
        "id": "lQRwmMaa02RO",
        "outputId": "77d8b9d4-af23-4716-f5fc-10a06f646adc"
      },
      "source": [
        "categorical_features = data.select_dtypes(include=[np.object])\n",
        "print(f\"Categorical Feature Count {categorical_features.shape[1]}\")\n",
        "categorical_features.head()"
      ],
      "execution_count": null,
      "outputs": [
        {
          "output_type": "stream",
          "name": "stdout",
          "text": [
            "Categorical Feature Count 14\n"
          ]
        },
        {
          "output_type": "execute_result",
          "data": {
            "text/html": [
              "<div>\n",
              "<style scoped>\n",
              "    .dataframe tbody tr th:only-of-type {\n",
              "        vertical-align: middle;\n",
              "    }\n",
              "\n",
              "    .dataframe tbody tr th {\n",
              "        vertical-align: top;\n",
              "    }\n",
              "\n",
              "    .dataframe thead th {\n",
              "        text-align: right;\n",
              "    }\n",
              "</style>\n",
              "<table border=\"1\" class=\"dataframe\">\n",
              "  <thead>\n",
              "    <tr style=\"text-align: right;\">\n",
              "      <th></th>\n",
              "      <th>ProductCD</th>\n",
              "      <th>card4</th>\n",
              "      <th>card6</th>\n",
              "      <th>P_emaildomain</th>\n",
              "      <th>R_emaildomain</th>\n",
              "      <th>M1</th>\n",
              "      <th>M2</th>\n",
              "      <th>M3</th>\n",
              "      <th>M4</th>\n",
              "      <th>M5</th>\n",
              "      <th>M6</th>\n",
              "      <th>M7</th>\n",
              "      <th>M8</th>\n",
              "      <th>M9</th>\n",
              "    </tr>\n",
              "  </thead>\n",
              "  <tbody>\n",
              "    <tr>\n",
              "      <th>0</th>\n",
              "      <td>W</td>\n",
              "      <td>discover</td>\n",
              "      <td>credit</td>\n",
              "      <td>NaN</td>\n",
              "      <td>NaN</td>\n",
              "      <td>T</td>\n",
              "      <td>T</td>\n",
              "      <td>T</td>\n",
              "      <td>M2</td>\n",
              "      <td>F</td>\n",
              "      <td>T</td>\n",
              "      <td>NaN</td>\n",
              "      <td>NaN</td>\n",
              "      <td>NaN</td>\n",
              "    </tr>\n",
              "    <tr>\n",
              "      <th>1</th>\n",
              "      <td>W</td>\n",
              "      <td>mastercard</td>\n",
              "      <td>credit</td>\n",
              "      <td>gmail.com</td>\n",
              "      <td>NaN</td>\n",
              "      <td>NaN</td>\n",
              "      <td>NaN</td>\n",
              "      <td>NaN</td>\n",
              "      <td>M0</td>\n",
              "      <td>T</td>\n",
              "      <td>T</td>\n",
              "      <td>NaN</td>\n",
              "      <td>NaN</td>\n",
              "      <td>NaN</td>\n",
              "    </tr>\n",
              "    <tr>\n",
              "      <th>2</th>\n",
              "      <td>W</td>\n",
              "      <td>visa</td>\n",
              "      <td>debit</td>\n",
              "      <td>outlook.com</td>\n",
              "      <td>NaN</td>\n",
              "      <td>T</td>\n",
              "      <td>T</td>\n",
              "      <td>T</td>\n",
              "      <td>M0</td>\n",
              "      <td>F</td>\n",
              "      <td>F</td>\n",
              "      <td>F</td>\n",
              "      <td>F</td>\n",
              "      <td>F</td>\n",
              "    </tr>\n",
              "    <tr>\n",
              "      <th>3</th>\n",
              "      <td>W</td>\n",
              "      <td>mastercard</td>\n",
              "      <td>debit</td>\n",
              "      <td>yahoo.com</td>\n",
              "      <td>NaN</td>\n",
              "      <td>NaN</td>\n",
              "      <td>NaN</td>\n",
              "      <td>NaN</td>\n",
              "      <td>M0</td>\n",
              "      <td>T</td>\n",
              "      <td>F</td>\n",
              "      <td>NaN</td>\n",
              "      <td>NaN</td>\n",
              "      <td>NaN</td>\n",
              "    </tr>\n",
              "    <tr>\n",
              "      <th>4</th>\n",
              "      <td>H</td>\n",
              "      <td>mastercard</td>\n",
              "      <td>credit</td>\n",
              "      <td>gmail.com</td>\n",
              "      <td>NaN</td>\n",
              "      <td>NaN</td>\n",
              "      <td>NaN</td>\n",
              "      <td>NaN</td>\n",
              "      <td>NaN</td>\n",
              "      <td>NaN</td>\n",
              "      <td>NaN</td>\n",
              "      <td>NaN</td>\n",
              "      <td>NaN</td>\n",
              "      <td>NaN</td>\n",
              "    </tr>\n",
              "  </tbody>\n",
              "</table>\n",
              "</div>"
            ],
            "text/plain": [
              "  ProductCD       card4   card6 P_emaildomain R_emaildomain   M1   M2   M3  \\\n",
              "0         W    discover  credit           NaN           NaN    T    T    T   \n",
              "1         W  mastercard  credit     gmail.com           NaN  NaN  NaN  NaN   \n",
              "2         W        visa   debit   outlook.com           NaN    T    T    T   \n",
              "3         W  mastercard   debit     yahoo.com           NaN  NaN  NaN  NaN   \n",
              "4         H  mastercard  credit     gmail.com           NaN  NaN  NaN  NaN   \n",
              "\n",
              "    M4   M5   M6   M7   M8   M9  \n",
              "0   M2    F    T  NaN  NaN  NaN  \n",
              "1   M0    T    T  NaN  NaN  NaN  \n",
              "2   M0    F    F    F    F    F  \n",
              "3   M0    T    F  NaN  NaN  NaN  \n",
              "4  NaN  NaN  NaN  NaN  NaN  NaN  "
            ]
          },
          "metadata": {},
          "execution_count": 5
        }
      ]
    },
    {
      "cell_type": "code",
      "metadata": {
        "id": "7y8AULoyzrn9"
      },
      "source": [
        "def evaluation_model(X, y, lb_X, lb_y, operation=None):\n",
        "    \n",
        "    # преобразование категориальных признаков\n",
        "    cat_features = X.select_dtypes(exclude=np.number).columns.to_list()\n",
        "    X[cat_features] = X[cat_features].astype('category')\n",
        "    lb_X[cat_features] = lb_X[cat_features].astype('category')\n",
        "    \n",
        "    # обучение модели\n",
        "    X_train, X_valid = train_test_split(X, train_size=0.7, shuffle=True, random_state=5)\n",
        "    y_train, y_valid = train_test_split(y, train_size=0.7, shuffle=True, random_state=5)\n",
        "\n",
        "    model = lgb.LGBMClassifier(objective=\"binary\", n_estimators=1000, random_state=5)\n",
        "\n",
        "    model.fit(X=X_train, y=y_train,\n",
        "                eval_set=[(X_train, y_train), (X_valid, y_valid)],\n",
        "                categorical_feature=cat_features, # \"auto\",\n",
        "                early_stopping_rounds=25,\n",
        "                eval_metric=\"auc\",\n",
        "                verbose=100)\n",
        "    \n",
        "    # кросс-валидация\n",
        "    fold_train_scores, fold_valid_scores = [], []\n",
        "    \n",
        "    cv_strategy = KFold(n_splits=5, random_state=1)\n",
        "    \n",
        "    for fold_number, (train_idx, valid_idx) in enumerate(cv_strategy.split(X, y)):\n",
        "        X_train, X_valid = X.loc[train_idx], X.loc[valid_idx]\n",
        "        y_train, y_valid = y.loc[train_idx], y.loc[valid_idx]\n",
        "\n",
        "        y_train_pred = model.predict(X_train)\n",
        "        y_valid_pred = model.predict(X_valid)\n",
        "\n",
        "        fold_train_scores.append(roc_auc_score(y_train, y_train_pred))\n",
        "        fold_valid_scores.append(roc_auc_score(y_valid, y_valid_pred))\n",
        "        \n",
        "    # доверительный интервал\n",
        "    conf_interval = 0.95 \n",
        "        \n",
        "    left_bound = np.percentile(fold_valid_scores, ((1 - conf_interval) / 2) * 100)\n",
        "    right_bound = np.percentile(fold_valid_scores, (conf_interval + ((1 - conf_interval) / 2)) * 100)\n",
        "    \n",
        "    # статистика\n",
        "    if operation != None:\n",
        "        \n",
        "        stata.loc[f'{operation}', 'train_mean'] = round(np.mean(fold_train_scores), 4)\n",
        "        stata.loc[f'{operation}', 'valid_mean'] = round(np.mean(fold_valid_scores), 4)\n",
        "        stata.loc[f'{operation}', 'train_std'] = round(np.std(fold_train_scores), 3)\n",
        "        stata.loc[f'{operation}', 'valid_std'] = round(np.std(fold_valid_scores), 3)\n",
        "        stata.loc[f'{operation}', 'valid_conf_interval'] = f'{round(left_bound, 3)}/{round(right_bound, 3)}'\n",
        "\n",
        "        auc_lb = round(roc_auc_score(lb_y, model.predict_proba(lb_X)[:, 1]), 4)\n",
        "        stata.loc[f'{operation}', 'auc_lb'] = auc_lb\n",
        "\n",
        "        return stata"
      ],
      "execution_count": null,
      "outputs": []
    },
    {
      "cell_type": "code",
      "metadata": {
        "colab": {
          "base_uri": "https://localhost:8080/"
        },
        "id": "xXV0_VBgzrq7",
        "outputId": "449ccc10-95f5-4456-8077-0051c7ce012b"
      },
      "source": [
        "X_data_base = X_data.copy()\n",
        "X_lb_base = X_lb.copy()\n",
        "\n",
        "stata = evaluation_model(X_data_base, y_data, X_lb_base, y_lb, operation='baseline')"
      ],
      "execution_count": null,
      "outputs": [
        {
          "output_type": "stream",
          "name": "stdout",
          "text": [
            "Training until validation scores don't improve for 25 rounds.\n",
            "[100]\ttraining's auc: 0.976086\ttraining's binary_logloss: 0.0436651\tvalid_1's auc: 0.941268\tvalid_1's binary_logloss: 0.0562966\n",
            "[200]\ttraining's auc: 0.991432\ttraining's binary_logloss: 0.0315221\tvalid_1's auc: 0.948801\tvalid_1's binary_logloss: 0.0517477\n",
            "[300]\ttraining's auc: 0.996621\ttraining's binary_logloss: 0.0236964\tvalid_1's auc: 0.95171\tvalid_1's binary_logloss: 0.0490745\n",
            "Early stopping, best iteration is:\n",
            "[345]\ttraining's auc: 0.99764\ttraining's binary_logloss: 0.0210635\tvalid_1's auc: 0.952709\tvalid_1's binary_logloss: 0.0483246\n"
          ]
        }
      ]
    },
    {
      "cell_type": "markdown",
      "metadata": {
        "id": "FfDQBOyl2qAN"
      },
      "source": [
        "# Задание 1"
      ]
    },
    {
      "cell_type": "code",
      "metadata": {
        "id": "S4Q2c_GXzruU"
      },
      "source": [
        "def transform_datetime(data): \n",
        "    data = data.copy()\n",
        "    data[\"DT\"] = pd.to_datetime(data[\"TransactionDT\"], unit='s', origin='2017-11-30')\n",
        "    data[\"year\"] = data[\"DT\"].dt.year\n",
        "    data[\"month\"] = data[\"DT\"].dt.month\n",
        "    data[\"day\"] = data[\"DT\"].dt.day\n",
        "    data[\"hour\"] = data[\"DT\"].dt.hour\n",
        "    data[\"day_of_week\"] = data[\"DT\"].dt.weekday\n",
        "    data = data.drop(\"DT\", axis=1)   \n",
        "    return data"
      ],
      "execution_count": null,
      "outputs": []
    },
    {
      "cell_type": "code",
      "metadata": {
        "colab": {
          "base_uri": "https://localhost:8080/"
        },
        "id": "GRh1t80c2u2M",
        "outputId": "c767cea9-fe26-4aaf-ff6c-01ac45d10e7b"
      },
      "source": [
        "X_data_dt = transform_datetime(data)\n",
        "X_lb_dt = transform_datetime(lb)\n",
        "\n",
        "stata = evaluation_model(X_data_dt, y_data, X_lb_dt, y_lb, operation='Задание 1')"
      ],
      "execution_count": null,
      "outputs": [
        {
          "output_type": "stream",
          "name": "stdout",
          "text": [
            "Training until validation scores don't improve for 25 rounds.\n",
            "Early stopping, best iteration is:\n",
            "[1]\ttraining's auc: 1\ttraining's binary_logloss: 0.0471359\tvalid_1's auc: 1\tvalid_1's binary_logloss: 0.0458656\n"
          ]
        }
      ]
    },
    {
      "cell_type": "markdown",
      "metadata": {
        "id": "P_VynDjI3EmE"
      },
      "source": [
        "# Задание 2"
      ]
    },
    {
      "cell_type": "code",
      "metadata": {
        "id": "R4BJnDSS2u5i"
      },
      "source": [
        "def concatenation(data):   \n",
        "    data = data.copy()\n",
        "    data['card_1_2'] = data['card1'].astype(np.str) + '_' + data['card2'].astype(np.str)\n",
        "    data['card_1_2_3_5'] = data['card_1_2'] + '_' + data['card3'].astype(np.str) + '_' + data['card5'].astype(np.str)\n",
        "    data['card_1_2_3_5_addr_1_2'] = data['card_1_2_3_5'] + '_' + data['addr1'].astype(np.str) + '_' + data['addr2'].astype(np.str)\n",
        "    return data"
      ],
      "execution_count": null,
      "outputs": []
    },
    {
      "cell_type": "code",
      "metadata": {
        "colab": {
          "base_uri": "https://localhost:8080/"
        },
        "id": "BUpCAGi53QnV",
        "outputId": "38f7409e-313a-4b07-a784-94b04afb994a"
      },
      "source": [
        "X_data_concat = concatenation(X_data) \n",
        "X_lb_concat = concatenation(X_lb)\n",
        "\n",
        "stata = evaluation_model(X_data_concat, y_data, X_lb_concat, y_lb, operation='Задание 2')"
      ],
      "execution_count": null,
      "outputs": [
        {
          "output_type": "stream",
          "name": "stdout",
          "text": [
            "Training until validation scores don't improve for 25 rounds.\n",
            "[100]\ttraining's auc: 0.991948\ttraining's binary_logloss: 0.0288224\tvalid_1's auc: 0.947225\tvalid_1's binary_logloss: 0.0509659\n",
            "[200]\ttraining's auc: 0.997546\ttraining's binary_logloss: 0.0183563\tvalid_1's auc: 0.951762\tvalid_1's binary_logloss: 0.0471606\n",
            "Early stopping, best iteration is:\n",
            "[240]\ttraining's auc: 0.99855\ttraining's binary_logloss: 0.0157772\tvalid_1's auc: 0.952873\tvalid_1's binary_logloss: 0.0463486\n"
          ]
        }
      ]
    },
    {
      "cell_type": "markdown",
      "metadata": {
        "id": "gI7SQHEM3er4"
      },
      "source": [
        "# Задание 3"
      ]
    },
    {
      "cell_type": "code",
      "metadata": {
        "id": "2hh-cFgN3Qrh"
      },
      "source": [
        "def FrequencyEncoder(data, features):   \n",
        "    data = data.copy()\n",
        "    for feature in features:\n",
        "        freq_encoder = data[feature].value_counts(normalize=True)\n",
        "        data[f\"{feature}_freq_enc\"] = data[feature].map(freq_encoder)\n",
        "    return data"
      ],
      "execution_count": null,
      "outputs": []
    },
    {
      "cell_type": "code",
      "metadata": {
        "colab": {
          "base_uri": "https://localhost:8080/"
        },
        "id": "AmqJwJU32u9i",
        "outputId": "f6537180-9365-46da-9b49-cae0a61a6cda"
      },
      "source": [
        "features = ['card1', 'card2', 'card3', 'card4', 'card5', 'card6', 'addr1', 'addr2']\n",
        "X_data_freq = FrequencyEncoder(X_data, features)\n",
        "X_lb_freq = FrequencyEncoder(X_lb, features)\n",
        "\n",
        "stata = evaluation_model(X_data_freq, y_data, X_lb_freq, y_lb, operation='Задание 3')"
      ],
      "execution_count": null,
      "outputs": [
        {
          "output_type": "stream",
          "name": "stdout",
          "text": [
            "Training until validation scores don't improve for 25 rounds.\n",
            "[100]\ttraining's auc: 0.979645\ttraining's binary_logloss: 0.0423194\tvalid_1's auc: 0.943879\tvalid_1's binary_logloss: 0.0555691\n",
            "[200]\ttraining's auc: 0.99382\ttraining's binary_logloss: 0.0295744\tvalid_1's auc: 0.94963\tvalid_1's binary_logloss: 0.0505619\n",
            "[300]\ttraining's auc: 0.997883\ttraining's binary_logloss: 0.0217524\tvalid_1's auc: 0.952833\tvalid_1's binary_logloss: 0.0477901\n",
            "[400]\ttraining's auc: 0.999186\ttraining's binary_logloss: 0.0165938\tvalid_1's auc: 0.954415\tvalid_1's binary_logloss: 0.0463061\n",
            "Early stopping, best iteration is:\n",
            "[430]\ttraining's auc: 0.999333\ttraining's binary_logloss: 0.0154046\tvalid_1's auc: 0.954927\tvalid_1's binary_logloss: 0.0459595\n"
          ]
        }
      ]
    },
    {
      "cell_type": "markdown",
      "metadata": {
        "id": "jxVG0ZlZ3ueh"
      },
      "source": [
        "# Задание 4"
      ]
    },
    {
      "cell_type": "code",
      "metadata": {
        "id": "B4N79bB13n2W"
      },
      "source": [
        "def create_aggs(data, groupby_id, aggs=None, features=None): \n",
        "    data = data.copy()\n",
        "    if aggs != None:\n",
        "        data_grouped_num = data.groupby(groupby_id)\n",
        "        stats_num = data_grouped_num.agg(aggs)\n",
        "        stats_num.columns = [f\"{groupby_id}_{feature}_{stat}\" for feature, stat in stats_num]\n",
        "        stats_num = stats_num.reset_index()\n",
        "        data = data.merge(stats_num, how='left', on=groupby_id)\n",
        "    if features != None:\n",
        "        categorical = data[features].copy()\n",
        "        le = LabelEncoder()\n",
        "        for feature in features:\n",
        "            cat_value = list(categorical[feature].values.astype('str'))\n",
        "            le.fit(cat_value)\n",
        "            categorical[feature] = le.transform(cat_value)\n",
        "        categorical[groupby_id] = data[groupby_id]\n",
        "        data_grouped_cat = categorical.groupby(groupby_id)\n",
        "        stats_cat = data_grouped_cat.agg({col: [\"mean\", \"sum\"] for col in features})\n",
        "        stats_cat.columns = [f\"{groupby_id}_{feature}_{stat}\" for feature, stat in stats_cat]\n",
        "        stats_cat = stats_cat.reset_index()\n",
        "        data = data.merge(stats_cat, how='left', on=groupby_id) \n",
        "    return data"
      ],
      "execution_count": null,
      "outputs": []
    },
    {
      "cell_type": "code",
      "metadata": {
        "colab": {
          "base_uri": "https://localhost:8080/"
        },
        "id": "Lh8VHCfc3n5n",
        "outputId": "ce93ed9f-9ea4-4ce1-fcdd-2a97e8e06573"
      },
      "source": [
        "aggs = {\"card1\": [np.mean, np.std],\n",
        "        \"card2\": [np.mean, np.std],\n",
        "        \"card3\": [np.mean, np.std],\n",
        "        \"card5\": [np.mean, np.std],\n",
        "        \"addr1\": [np.mean, np.std],\n",
        "        \"addr2\": [np.mean, np.std]\n",
        "        }\n",
        "features = [\"card4\", \"card6\", \"card_1_2\", \"card_1_2_3_5\", \"card_1_2_3_5_addr_1_2\"]\n",
        "groupby_id = \"TransactionAmt\"\n",
        "    \n",
        "X_data_agg_amt = create_aggs(X_data_concat, groupby_id, aggs, features)\n",
        "X_lb_agg_amt = create_aggs(X_lb_concat, groupby_id, aggs, features)\n",
        "\n",
        "stata = evaluation_model(X_data_agg_amt, y_data, X_lb_agg_amt, y_lb, operation='Задание 4')"
      ],
      "execution_count": null,
      "outputs": [
        {
          "output_type": "stream",
          "name": "stdout",
          "text": [
            "Training until validation scores don't improve for 25 rounds.\n",
            "[100]\ttraining's auc: 0.992804\ttraining's binary_logloss: 0.027592\tvalid_1's auc: 0.947165\tvalid_1's binary_logloss: 0.0503691\n",
            "[200]\ttraining's auc: 0.998728\ttraining's binary_logloss: 0.0167352\tvalid_1's auc: 0.952425\tvalid_1's binary_logloss: 0.0467891\n",
            "[300]\ttraining's auc: 0.999661\ttraining's binary_logloss: 0.01084\tvalid_1's auc: 0.954487\tvalid_1's binary_logloss: 0.0451334\n",
            "[400]\ttraining's auc: 0.999925\ttraining's binary_logloss: 0.00730164\tvalid_1's auc: 0.956156\tvalid_1's binary_logloss: 0.0447157\n",
            "Early stopping, best iteration is:\n",
            "[384]\ttraining's auc: 0.99992\ttraining's binary_logloss: 0.00771351\tvalid_1's auc: 0.956098\tvalid_1's binary_logloss: 0.0446878\n"
          ]
        }
      ]
    },
    {
      "cell_type": "markdown",
      "metadata": {
        "id": "_J9VvvxKIKFI"
      },
      "source": [
        "# Задание 5"
      ]
    },
    {
      "cell_type": "code",
      "metadata": {
        "colab": {
          "base_uri": "https://localhost:8080/"
        },
        "id": "Gdrqu9ikIFwe",
        "outputId": "2872b56e-3261-4d2b-d635-bf518e0aa8f1"
      },
      "source": [
        "groupby_id = \"D15\"\n",
        "X_data_agg_d15 = create_aggs(X_data_concat, groupby_id, aggs, features)\n",
        "X_lb_agg_d15 = create_aggs(X_lb_concat, groupby_id, aggs, features)\n",
        "\n",
        "stata = evaluation_model(X_data_agg_d15, y_data, X_lb_agg_d15, y_lb, operation='Задание 5')"
      ],
      "execution_count": null,
      "outputs": [
        {
          "output_type": "stream",
          "name": "stdout",
          "text": [
            "Training until validation scores don't improve for 25 rounds.\n",
            "[100]\ttraining's auc: 0.993076\ttraining's binary_logloss: 0.0283584\tvalid_1's auc: 0.950206\tvalid_1's binary_logloss: 0.0500928\n",
            "[200]\ttraining's auc: 0.998015\ttraining's binary_logloss: 0.0180425\tvalid_1's auc: 0.954119\tvalid_1's binary_logloss: 0.0464295\n",
            "[300]\ttraining's auc: 0.999258\ttraining's binary_logloss: 0.0125933\tvalid_1's auc: 0.956627\tvalid_1's binary_logloss: 0.0451057\n",
            "Early stopping, best iteration is:\n",
            "[348]\ttraining's auc: 0.999649\ttraining's binary_logloss: 0.010527\tvalid_1's auc: 0.957297\tvalid_1's binary_logloss: 0.0446245\n"
          ]
        }
      ]
    },
    {
      "cell_type": "markdown",
      "metadata": {
        "id": "2optAXFuIhsr"
      },
      "source": [
        "# Задание 6"
      ]
    },
    {
      "cell_type": "code",
      "metadata": {
        "id": "m07s1lqaIF0W"
      },
      "source": [
        "def transform_TransactionAmt(data):   \n",
        "    data = data.copy()\n",
        "    data['TransactionAmt_whole'] = data['TransactionAmt']//1\n",
        "    data['TransactionAmt_frac'] = data['TransactionAmt']%1\n",
        "    data['TransactionAmt_log'] = np.log2(data['TransactionAmt'])\n",
        "    return data"
      ],
      "execution_count": null,
      "outputs": []
    },
    {
      "cell_type": "code",
      "metadata": {
        "colab": {
          "base_uri": "https://localhost:8080/"
        },
        "id": "NR-juPvcIF4h",
        "outputId": "ee7df1be-14bf-47e4-e333-d96339a70241"
      },
      "source": [
        "X_data_trans_amt = transform_TransactionAmt(X_data)\n",
        "X_lb_trans_amt = transform_TransactionAmt(X_lb)\n",
        "\n",
        "stata = evaluation_model(X_data_trans_amt, y_data, X_lb_trans_amt, y_lb, operation='Задание 6')"
      ],
      "execution_count": null,
      "outputs": [
        {
          "output_type": "stream",
          "name": "stdout",
          "text": [
            "Training until validation scores don't improve for 25 rounds.\n",
            "[100]\ttraining's auc: 0.97545\ttraining's binary_logloss: 0.043453\tvalid_1's auc: 0.939509\tvalid_1's binary_logloss: 0.0566433\n",
            "[200]\ttraining's auc: 0.992229\ttraining's binary_logloss: 0.0308658\tvalid_1's auc: 0.949247\tvalid_1's binary_logloss: 0.051666\n",
            "[300]\ttraining's auc: 0.996512\ttraining's binary_logloss: 0.0234502\tvalid_1's auc: 0.951631\tvalid_1's binary_logloss: 0.0492989\n",
            "[400]\ttraining's auc: 0.998567\ttraining's binary_logloss: 0.0177986\tvalid_1's auc: 0.953997\tvalid_1's binary_logloss: 0.0473766\n",
            "[500]\ttraining's auc: 0.999555\ttraining's binary_logloss: 0.0136307\tvalid_1's auc: 0.954883\tvalid_1's binary_logloss: 0.0464313\n",
            "Early stopping, best iteration is:\n",
            "[533]\ttraining's auc: 0.999688\ttraining's binary_logloss: 0.0124602\tvalid_1's auc: 0.955168\tvalid_1's binary_logloss: 0.0463191\n"
          ]
        }
      ]
    },
    {
      "cell_type": "markdown",
      "metadata": {
        "id": "EhpjmKWHIv02"
      },
      "source": [
        "# Задание 7"
      ]
    },
    {
      "cell_type": "code",
      "metadata": {
        "id": "5HTY6B0TIF7x"
      },
      "source": [
        "def transform_emaildomain(data):\n",
        "    data = data.copy()\n",
        "    \n",
        "    # отсутствующие значения P_emaildomain заполнить данными из R_emaildomain\n",
        "    condition = (data['P_emaildomain'].isnull()) & (data['R_emaildomain'].notnull())\n",
        "    data[condition]['P_emaildomain'] = data[condition]['R_emaildomain']\n",
        "\n",
        "    # разбиение домена на уровни\n",
        "    new = data['P_emaildomain'].str.split(\".\", n = 1, expand = True)\n",
        "    data['P_emaildomain_1'] = new[0]\n",
        "    data['P_emaildomain_2'] = new[1]\n",
        "\n",
        "    # R_emaildomain, P_emaildomain удалить\n",
        "    data = data.drop(['R_emaildomain', 'P_emaildomain'], axis=1)\n",
        "    return data"
      ],
      "execution_count": null,
      "outputs": []
    },
    {
      "cell_type": "code",
      "metadata": {
        "colab": {
          "base_uri": "https://localhost:8080/"
        },
        "id": "MmJWT0UpIF_Z",
        "outputId": "caa52d25-64f8-40a4-90c8-a5d2bed4fbe9"
      },
      "source": [
        "X_data_trans_email = transform_emaildomain(X_data)\n",
        "X_lb_trans_email = transform_emaildomain(X_lb)\n",
        "\n",
        "stata = evaluation_model(X_data_trans_email, y_data, X_lb_trans_email, y_lb, operation='Задание 7')"
      ],
      "execution_count": null,
      "outputs": [
        {
          "output_type": "stream",
          "name": "stdout",
          "text": [
            "Training until validation scores don't improve for 25 rounds.\n",
            "[100]\ttraining's auc: 0.97758\ttraining's binary_logloss: 0.0438405\tvalid_1's auc: 0.93965\tvalid_1's binary_logloss: 0.0566607\n",
            "[200]\ttraining's auc: 0.991221\ttraining's binary_logloss: 0.0315137\tvalid_1's auc: 0.94722\tvalid_1's binary_logloss: 0.0517566\n",
            "[300]\ttraining's auc: 0.996309\ttraining's binary_logloss: 0.023992\tvalid_1's auc: 0.951246\tvalid_1's binary_logloss: 0.0492848\n",
            "[400]\ttraining's auc: 0.998313\ttraining's binary_logloss: 0.0185288\tvalid_1's auc: 0.953171\tvalid_1's binary_logloss: 0.047829\n",
            "Early stopping, best iteration is:\n",
            "[446]\ttraining's auc: 0.999126\ttraining's binary_logloss: 0.0163242\tvalid_1's auc: 0.954389\tvalid_1's binary_logloss: 0.0473662\n"
          ]
        }
      ]
    },
    {
      "cell_type": "code",
      "metadata": {
        "colab": {
          "base_uri": "https://localhost:8080/",
          "height": 297
        },
        "id": "hbWSGj4rI9r5",
        "outputId": "d05b4591-e886-48b0-ff33-d5ad61eb5a85"
      },
      "source": [
        "stata"
      ],
      "execution_count": null,
      "outputs": [
        {
          "output_type": "execute_result",
          "data": {
            "text/html": [
              "<div>\n",
              "<style scoped>\n",
              "    .dataframe tbody tr th:only-of-type {\n",
              "        vertical-align: middle;\n",
              "    }\n",
              "\n",
              "    .dataframe tbody tr th {\n",
              "        vertical-align: top;\n",
              "    }\n",
              "\n",
              "    .dataframe thead th {\n",
              "        text-align: right;\n",
              "    }\n",
              "</style>\n",
              "<table border=\"1\" class=\"dataframe\">\n",
              "  <thead>\n",
              "    <tr style=\"text-align: right;\">\n",
              "      <th></th>\n",
              "      <th>train_mean</th>\n",
              "      <th>train_std</th>\n",
              "      <th>valid_mean</th>\n",
              "      <th>valid_std</th>\n",
              "      <th>valid_conf_interval</th>\n",
              "      <th>auc_lb</th>\n",
              "    </tr>\n",
              "  </thead>\n",
              "  <tbody>\n",
              "    <tr>\n",
              "      <th>baseline</th>\n",
              "      <td>0.8597</td>\n",
              "      <td>0.005</td>\n",
              "      <td>0.8578</td>\n",
              "      <td>0.016</td>\n",
              "      <td>0.839/0.883</td>\n",
              "      <td>0.8585</td>\n",
              "    </tr>\n",
              "    <tr>\n",
              "      <th>Задание 1</th>\n",
              "      <td>0.5</td>\n",
              "      <td>0</td>\n",
              "      <td>0.5</td>\n",
              "      <td>0</td>\n",
              "      <td>0.5/0.5</td>\n",
              "      <td>1</td>\n",
              "    </tr>\n",
              "    <tr>\n",
              "      <th>Задание 2</th>\n",
              "      <td>0.8945</td>\n",
              "      <td>0.002</td>\n",
              "      <td>0.893</td>\n",
              "      <td>0.008</td>\n",
              "      <td>0.885/0.906</td>\n",
              "      <td>0.8506</td>\n",
              "    </tr>\n",
              "    <tr>\n",
              "      <th>Задание 3</th>\n",
              "      <td>0.8893</td>\n",
              "      <td>0.003</td>\n",
              "      <td>0.8879</td>\n",
              "      <td>0.01</td>\n",
              "      <td>0.88/0.905</td>\n",
              "      <td>0.8506</td>\n",
              "    </tr>\n",
              "    <tr>\n",
              "      <th>Задание 4</th>\n",
              "      <td>0.9341</td>\n",
              "      <td>0.001</td>\n",
              "      <td>0.9336</td>\n",
              "      <td>0.003</td>\n",
              "      <td>0.929/0.938</td>\n",
              "      <td>0.8458</td>\n",
              "    </tr>\n",
              "    <tr>\n",
              "      <th>Задание 5</th>\n",
              "      <td>0.9188</td>\n",
              "      <td>0.002</td>\n",
              "      <td>0.9177</td>\n",
              "      <td>0.007</td>\n",
              "      <td>0.911/0.928</td>\n",
              "      <td>0.8398</td>\n",
              "    </tr>\n",
              "    <tr>\n",
              "      <th>Задание 6</th>\n",
              "      <td>0.9036</td>\n",
              "      <td>0.003</td>\n",
              "      <td>0.902</td>\n",
              "      <td>0.01</td>\n",
              "      <td>0.894/0.919</td>\n",
              "      <td>0.8493</td>\n",
              "    </tr>\n",
              "    <tr>\n",
              "      <th>Задание 7</th>\n",
              "      <td>0.8846</td>\n",
              "      <td>0.004</td>\n",
              "      <td>0.8828</td>\n",
              "      <td>0.011</td>\n",
              "      <td>0.873/0.902</td>\n",
              "      <td>0.8532</td>\n",
              "    </tr>\n",
              "  </tbody>\n",
              "</table>\n",
              "</div>"
            ],
            "text/plain": [
              "          train_mean train_std valid_mean valid_std valid_conf_interval  \\\n",
              "baseline      0.8597     0.005     0.8578     0.016         0.839/0.883   \n",
              "Задание 1        0.5         0        0.5         0             0.5/0.5   \n",
              "Задание 2     0.8945     0.002      0.893     0.008         0.885/0.906   \n",
              "Задание 3     0.8893     0.003     0.8879      0.01          0.88/0.905   \n",
              "Задание 4     0.9341     0.001     0.9336     0.003         0.929/0.938   \n",
              "Задание 5     0.9188     0.002     0.9177     0.007         0.911/0.928   \n",
              "Задание 6     0.9036     0.003      0.902      0.01         0.894/0.919   \n",
              "Задание 7     0.8846     0.004     0.8828     0.011         0.873/0.902   \n",
              "\n",
              "           auc_lb  \n",
              "baseline   0.8585  \n",
              "Задание 1       1  \n",
              "Задание 2  0.8506  \n",
              "Задание 3  0.8506  \n",
              "Задание 4  0.8458  \n",
              "Задание 5  0.8398  \n",
              "Задание 6  0.8493  \n",
              "Задание 7  0.8532  "
            ]
          },
          "metadata": {},
          "execution_count": 21
        }
      ]
    }
  ]
}