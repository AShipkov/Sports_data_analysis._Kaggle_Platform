{
  "nbformat": 4,
  "nbformat_minor": 0,
  "metadata": {
    "colab": {
      "name": "Untitled29.ipynb",
      "provenance": [],
      "machine_shape": "hm"
    },
    "kernelspec": {
      "name": "python3",
      "display_name": "Python 3"
    },
    "language_info": {
      "name": "python"
    },
    "accelerator": "GPU"
  },
  "cells": [
    {
      "cell_type": "markdown",
      "metadata": {
        "id": "8W-ZDoyVJt22"
      },
      "source": [
        "# Урок 3. Построение надежных схем валидации решения, оптимизация целевых метрик"
      ]
    },
    {
      "cell_type": "markdown",
      "metadata": {
        "id": "aqsv_HyxxIwx"
      },
      "source": [
        ""
      ]
    },
    {
      "cell_type": "markdown",
      "metadata": {
        "id": "006I_kMAJuEl"
      },
      "source": [
        "Основное задание:  \n",
        "Даны выборки для обучения и для тестирования. Задание заключается в том, чтобы попробовать разные способы валидации, проанализировать плюсы / минусы каждой и сделать выводы о том, какой способ валидации наиболее устойчивый в данной задаче. Метрика качества для оценки прогнозов - ROC-AUC, название целевой переменной - IsFraud. Рекомендуется использовать модели градиетного бустинга, реализация любая / гипепараметры любые. Внимание! выборка assignment_2_test.csv - наш аналог лидерборда. Будем моделировать ситуацию отправки решения на лидерборд и сравнить значение метрики на лидерборде и на локальной валидации. Для других целей использовать выборку запрещено!.  \n",
        "Терминалогия, используемая в задании:\n",
        "* обучающая выборка - выборка, которая передается в метод fit / train;\n",
        "* валидационная выборка - выборка, которая получается при Hold-Out на 2 выборки (train, valid);\n",
        "* тестовая выборка - выборка, которая получается при Hold-Out на 3 выборки (train, valid, test);\n",
        "* ЛБ - лидерборд, выборка assignment_2_test.csv.\n",
        "\n",
        "Задание 1: сделать Hold-Out валидацию с разбиением, размер которого будет адеквтаным, по вашему мнению; разбиение проводить по id-транзакции (TransactionID), обучать модель градиетного бустинга любой реализации с подбором числа деревьев по early_stopping критерию до достижения сходимости. Оценить качество модели на валидационной выборке, оценить расхождение по сравнению с качеством на обучающей выборке и валидационной выборке. Оценить качество на ЛБ, сравнить с качеством на обучении и валидации. Сделать выводы.  \n",
        "Задание 2: сделать Hold-Out валидацию с разбиением на 3 выборки, разбиение проводить по id-транзакции (TransactionID), размер каждой выборки подобрать самостоятельно. Повторить процедуру из п.1. для каждой выборки.  \n",
        "Задание 3: построить доверительный интервал на данных из п.2 на основе бутстреп выборок, оценить качество модели на ЛБ относительно полученного доверительного интервала. Сделать выводы.  \n",
        "​Задание 4: выполнить Adversarial Validation, подобрать объекты из обучающей выборки, которые сильно похожи на объекты из assignment_2_test.csv, и использовать их в качестве валидационного набора. Оценить качество модели на ЛБ, сделать выводы о полученных результатах.  \n",
        "​Задание 5: сделать KFold / StratifiedKFold валидацию (на ваше усмотрение), оценить получаемые качество и разброс по метрике качества. Сделать выводы об устойчивости кросс-валидации, сходимости оценки на кросс-валидации и отложенном наборе данных; Оценить качество на ЛБ, сделать выводы.  \n",
        "​Задание 6 (опциональное): сделать Hold-Out валидацию по времени (TransactionDT), повторить процедуры из п.1 / п.2 (на ваш выбор). Построить доверительный интервал, сравнить качество на ЛБ выборке с полученным доверительным интервалом. Сделать выводы.  \n",
        "​Задание 7 (совсем опциональное): в данном наборе данных у нас есть ID-транзакции (TransactionID) и время транзакции (TransactionDT), но отсутствует ID-клиента, который совершал транзакции. Кажется, что в этой задаче валидация по клиенту работала бы хорошо. Предложить критерий, по которому можно выделить клиентов и сделать п.5, используя созданное определение клиента, используя валидацию по клиенту (GroupKFold)."
      ]
    },
    {
      "cell_type": "code",
      "metadata": {
        "id": "8fJv_Fe_KZ1W"
      },
      "source": [
        "from tqdm import tqdm\n",
        "from typing import List, Tuple\n",
        "import numpy as np\n",
        "import pandas as pd\n",
        "import seaborn as sns\n",
        "import xgboost as xgb\n",
        "import matplotlib.pyplot as plt\n",
        "%matplotlib inline\n",
        "from sklearn.metrics import roc_auc_score\n",
        "from sklearn.ensemble import RandomForestRegressor\n",
        "from sklearn.model_selection import KFold, StratifiedKFold, cross_val_score, GroupKFold\n",
        "from sklearn.model_selection import train_test_split, TimeSeriesSplit\n",
        "from scipy.stats import ttest_rel\n",
        "import warnings\n",
        "warnings.simplefilter(\"ignore\")"
      ],
      "execution_count": null,
      "outputs": []
    },
    {
      "cell_type": "code",
      "metadata": {
        "colab": {
          "base_uri": "https://localhost:8080/"
        },
        "id": "Ig_h-rdlL1_u",
        "outputId": "a6baa4c1-6e87-4527-f78b-d2d136841746"
      },
      "source": [
        "!unzip /content/drive/MyDrive/assignment2_data.zip"
      ],
      "execution_count": null,
      "outputs": [
        {
          "output_type": "stream",
          "name": "stdout",
          "text": [
            "Archive:  /content/drive/MyDrive/assignment2_data.zip\n",
            "  inflating: assignment_2_test.csv   \n",
            "  inflating: assignment_2_train.csv  \n"
          ]
        }
      ]
    },
    {
      "cell_type": "code",
      "metadata": {
        "id": "CLnecUt-KZ88"
      },
      "source": [
        "data = pd.read_csv('/content/assignment_2_train.csv')\n",
        "lb = pd.read_csv('/content/assignment_2_test.csv')"
      ],
      "execution_count": null,
      "outputs": []
    },
    {
      "cell_type": "code",
      "metadata": {
        "id": "0dgYS4ucKZ_0"
      },
      "source": [
        "num_features = data.select_dtypes(exclude=[np.object]).columns.to_list()\n",
        "data_num = data[num_features]\n",
        "lb_num = lb[num_features]"
      ],
      "execution_count": null,
      "outputs": []
    },
    {
      "cell_type": "code",
      "metadata": {
        "id": "krSC5TENKaCm"
      },
      "source": [
        "X_data = data_num.drop('isFraud', axis=1)\n",
        "y_data = data_num['isFraud']\n",
        "X_lb = lb_num.drop('isFraud', axis=1)\n",
        "y_lb = lb_num['isFraud']"
      ],
      "execution_count": null,
      "outputs": []
    },
    {
      "cell_type": "markdown",
      "metadata": {
        "id": "5ZWnvmG5NvTo"
      },
      "source": [
        "# Задание 1"
      ]
    },
    {
      "cell_type": "code",
      "metadata": {
        "colab": {
          "base_uri": "https://localhost:8080/"
        },
        "id": "DQqroEH5KaFN",
        "outputId": "0368b43f-3cc8-45e3-b98e-9cc162dec2bc"
      },
      "source": [
        "X_train, X_valid = train_test_split(X_data, train_size=0.7, shuffle=True, random_state=5)\n",
        "y_train, y_valid = train_test_split(y_data, train_size=0.7, shuffle=True, random_state=5)\n",
        "X_train.shape, y_train.shape,  X_valid.shape, y_valid.shape"
      ],
      "execution_count": null,
      "outputs": [
        {
          "output_type": "execute_result",
          "data": {
            "text/plain": [
              "((125999, 379), (125999,), (54001, 379), (54001,))"
            ]
          },
          "metadata": {},
          "execution_count": 6
        }
      ]
    },
    {
      "cell_type": "code",
      "metadata": {
        "colab": {
          "base_uri": "https://localhost:8080/"
        },
        "id": "r_QrBr9NKaH9",
        "outputId": "295ea377-54a4-4794-8d45-72628835444a"
      },
      "source": [
        "model = xgb.XGBClassifier(random_state=5)\n",
        "\n",
        "model.fit(X=X_train, y=y_train,\n",
        "            eval_set=[(X_train, y_train), (X_valid, y_valid)], \n",
        "            early_stopping_rounds=20,\n",
        "            eval_metric=\"auc\",\n",
        "            verbose=20)"
      ],
      "execution_count": null,
      "outputs": [
        {
          "output_type": "stream",
          "name": "stdout",
          "text": [
            "[0]\tvalidation_0-auc:0.633494\tvalidation_1-auc:0.624628\n",
            "Multiple eval metrics have been passed: 'validation_1-auc' will be used for early stopping.\n",
            "\n",
            "Will train until validation_1-auc hasn't improved in 20 rounds.\n",
            "[20]\tvalidation_0-auc:0.817529\tvalidation_1-auc:0.813471\n",
            "[40]\tvalidation_0-auc:0.870684\tvalidation_1-auc:0.867461\n",
            "[60]\tvalidation_0-auc:0.886423\tvalidation_1-auc:0.880535\n",
            "[80]\tvalidation_0-auc:0.895336\tvalidation_1-auc:0.887068\n",
            "[99]\tvalidation_0-auc:0.900372\tvalidation_1-auc:0.891036\n"
          ]
        },
        {
          "output_type": "execute_result",
          "data": {
            "text/plain": [
              "XGBClassifier(base_score=0.5, booster='gbtree', colsample_bylevel=1,\n",
              "              colsample_bynode=1, colsample_bytree=1, gamma=0,\n",
              "              learning_rate=0.1, max_delta_step=0, max_depth=3,\n",
              "              min_child_weight=1, missing=None, n_estimators=100, n_jobs=1,\n",
              "              nthread=None, objective='binary:logistic', random_state=5,\n",
              "              reg_alpha=0, reg_lambda=1, scale_pos_weight=1, seed=None,\n",
              "              silent=None, subsample=1, verbosity=1)"
            ]
          },
          "metadata": {},
          "execution_count": 7
        }
      ]
    },
    {
      "cell_type": "code",
      "metadata": {
        "id": "RtBykgDBOMKV"
      },
      "source": [
        "r1=roc_auc_score(y_train, model.predict_proba(X_train)[:, 1:])\n",
        "r2=roc_auc_score(y_valid, model.predict_proba(X_valid)[:, 1:])\n",
        "r3=roc_auc_score(y_lb, model.predict_proba(X_lb)[:, 1:])"
      ],
      "execution_count": null,
      "outputs": []
    },
    {
      "cell_type": "code",
      "metadata": {
        "colab": {
          "base_uri": "https://localhost:8080/"
        },
        "id": "SjRPsJQ2OIun",
        "outputId": "76e237b8-65d6-40e4-cb01-0afb2fde39f3"
      },
      "source": [
        "print (f'roc_auc_score: {r1.round(3)}, {r2.round(3)}, {r3.round(3)} ')"
      ],
      "execution_count": null,
      "outputs": [
        {
          "output_type": "stream",
          "name": "stdout",
          "text": [
            "roc_auc_score: 0.9, 0.891, 0.857 \n"
          ]
        }
      ]
    },
    {
      "cell_type": "markdown",
      "metadata": {
        "id": "4i9mIcCkPMtT"
      },
      "source": [
        "Вывод:\n",
        "- наблючается переобучение\n",
        "- между метриками валидационной выборки и выборки ЛБ существенный разрыв\n",
        "- Hold-Out валидация с разбиением на 2 выборки не является устойчивой"
      ]
    },
    {
      "cell_type": "markdown",
      "metadata": {
        "id": "UrYHugbePxtJ"
      },
      "source": [
        "# Задание 2"
      ]
    },
    {
      "cell_type": "code",
      "metadata": {
        "colab": {
          "base_uri": "https://localhost:8080/"
        },
        "id": "Z_EQfamxP1P_",
        "outputId": "12c2890a-38ab-418c-c2c7-09b6a3fe4b30"
      },
      "source": [
        "X_train, X_valid = train_test_split(X_data, train_size=0.6, shuffle=True, random_state=5)\n",
        "y_train, y_valid = train_test_split(y_data, train_size=0.6, shuffle=True, random_state=5)\n",
        "X_valid, X_test = train_test_split(X_valid, train_size=0.5, shuffle=True, random_state=27)\n",
        "y_valid, y_test = train_test_split(y_valid, train_size=0.5, shuffle=True, random_state=27)\n",
        "X_train.shape, X_valid.shape, X_test.shape"
      ],
      "execution_count": null,
      "outputs": [
        {
          "output_type": "execute_result",
          "data": {
            "text/plain": [
              "((108000, 379), (36000, 379), (36000, 379))"
            ]
          },
          "metadata": {},
          "execution_count": 10
        }
      ]
    },
    {
      "cell_type": "code",
      "metadata": {
        "colab": {
          "base_uri": "https://localhost:8080/"
        },
        "id": "9JLmLm8TP1Sx",
        "outputId": "77309fd7-4e8a-4895-d04d-0dd3ca1776a2"
      },
      "source": [
        "model = xgb.XGBClassifier(random_state=5)\n",
        "model.fit(X=X_train, y=y_train,\n",
        "            eval_set=[(X_train, y_train), (X_valid, y_valid)], \n",
        "            early_stopping_rounds=20,\n",
        "            eval_metric=\"auc\",\n",
        "            verbose=20)"
      ],
      "execution_count": null,
      "outputs": [
        {
          "output_type": "stream",
          "name": "stdout",
          "text": [
            "[0]\tvalidation_0-auc:0.636519\tvalidation_1-auc:0.622589\n",
            "Multiple eval metrics have been passed: 'validation_1-auc' will be used for early stopping.\n",
            "\n",
            "Will train until validation_1-auc hasn't improved in 20 rounds.\n",
            "[20]\tvalidation_0-auc:0.818047\tvalidation_1-auc:0.815439\n",
            "[40]\tvalidation_0-auc:0.871642\tvalidation_1-auc:0.863279\n",
            "[60]\tvalidation_0-auc:0.886373\tvalidation_1-auc:0.875389\n",
            "[80]\tvalidation_0-auc:0.89595\tvalidation_1-auc:0.882264\n",
            "[99]\tvalidation_0-auc:0.900913\tvalidation_1-auc:0.886154\n"
          ]
        },
        {
          "output_type": "execute_result",
          "data": {
            "text/plain": [
              "XGBClassifier(base_score=0.5, booster='gbtree', colsample_bylevel=1,\n",
              "              colsample_bynode=1, colsample_bytree=1, gamma=0,\n",
              "              learning_rate=0.1, max_delta_step=0, max_depth=3,\n",
              "              min_child_weight=1, missing=None, n_estimators=100, n_jobs=1,\n",
              "              nthread=None, objective='binary:logistic', random_state=5,\n",
              "              reg_alpha=0, reg_lambda=1, scale_pos_weight=1, seed=None,\n",
              "              silent=None, subsample=1, verbosity=1)"
            ]
          },
          "metadata": {},
          "execution_count": 11
        }
      ]
    },
    {
      "cell_type": "code",
      "metadata": {
        "colab": {
          "base_uri": "https://localhost:8080/"
        },
        "id": "smrDZpKhP1Vv",
        "outputId": "36cc1d4d-6d01-43b2-fbd7-a270c42aa5d9"
      },
      "source": [
        "r1=roc_auc_score(y_train, model.predict_proba(X_train)[:, 1:])\n",
        "r2=roc_auc_score(y_valid, model.predict_proba(X_valid)[:, 1:])\n",
        "r3=roc_auc_score(y_test, model.predict_proba(X_test)[: ,1:])\n",
        "r4=roc_auc_score(y_lb, model.predict_proba(X_lb)[:, 1:])\n",
        "print (f'roc_auc_score: {r1.round(3)}, {r2.round(3)}, {r3.round(3)},{r4.round(3)}  ')"
      ],
      "execution_count": null,
      "outputs": [
        {
          "output_type": "stream",
          "name": "stdout",
          "text": [
            "roc_auc_score: 0.901, 0.886, 0.891,0.856  \n"
          ]
        }
      ]
    },
    {
      "cell_type": "markdown",
      "metadata": {
        "id": "Muyc4UCCRmbV"
      },
      "source": [
        "\n",
        "Выводы те же, что и в задании 1"
      ]
    },
    {
      "cell_type": "markdown",
      "metadata": {
        "id": "3rhBHdU3SoI7"
      },
      "source": [
        "# Задание 3"
      ]
    },
    {
      "cell_type": "code",
      "metadata": {
        "id": "gJ334MDJP1bP"
      },
      "source": [
        "def create_bootstrap_samples(data: np.array, n_samples: int = 1000) -> np.array:\n",
        "    \"\"\"\n",
        "    Создание бутстреп-выборок.\n",
        "\n",
        "    Parameters\n",
        "    ----------\n",
        "    data: np.array\n",
        "        Исходная выборка, которая будет использоваться для\n",
        "        создания бутстреп выборок.\n",
        "\n",
        "    n_samples: int, optional, default = 1000\n",
        "        Количество создаваемых бутстреп выборок.\n",
        "        Опциональный параметр, по умолчанию, равен 1000.\n",
        "\n",
        "    Returns\n",
        "    -------\n",
        "    bootstrap_idx: np.array\n",
        "        Матрица индексов, для создания бутстреп выборок.\n",
        "\n",
        "    \"\"\"\n",
        "    bootstrap_idx = np.random.randint(\n",
        "        low=0, high=len(data), size=(n_samples, len(data))\n",
        "    )\n",
        "    return bootstrap_idx\n",
        "\n",
        "\n",
        "def create_bootstrap_metrics(y_true: np.array,\n",
        "                             y_pred: np.array,\n",
        "                             metric: callable,\n",
        "                             n_samlpes: int = 1000) -> List[float]:\n",
        "    \"\"\"\n",
        "    Вычисление бутстреп оценок.\n",
        "\n",
        "    Parameters\n",
        "    ----------\n",
        "    y_true: np.array\n",
        "        Вектор целевой переменной.\n",
        "\n",
        "    y_pred: np.array\n",
        "        Вектор прогнозов.\n",
        "\n",
        "    metric: callable\n",
        "        Функция для вычисления метрики.\n",
        "        Функция должна принимать 2 аргумента: y_true, y_pred.\n",
        "\n",
        "    n_samples: int, optional, default = 1000\n",
        "        Количество создаваемых бутстреп выборок.\n",
        "        Опциональный параметр, по умолчанию, равен 1000.\n",
        "\n",
        "    Returns\n",
        "    -------\n",
        "    bootstrap_metrics: List[float]\n",
        "        Список со значениями метрики качества на каждой бустреп выборке.\n",
        "\n",
        "    \"\"\"\n",
        "    scores = []\n",
        "\n",
        "    if isinstance(y_true, pd.Series):\n",
        "        y_true = y_true.values\n",
        "\n",
        "    bootstrap_idx = create_bootstrap_samples(y_true)\n",
        "    for idx in bootstrap_idx:\n",
        "        y_true_bootstrap = y_true[idx]\n",
        "        y_pred_bootstrap = y_pred[idx]\n",
        "\n",
        "        score = metric(y_true_bootstrap, y_pred_bootstrap)\n",
        "        scores.append(score)\n",
        "\n",
        "    return scores\n",
        "\n",
        "\n",
        "def calculate_confidence_interval(scores: list, conf_interval: float = 0.95) -> Tuple[float]:\n",
        "    \"\"\"\n",
        "    Вычисление доверительного интервала.\n",
        "\n",
        "    Parameters\n",
        "    ----------\n",
        "    scores: List[float / int]\n",
        "        Список с оценками изучаемой величины.\n",
        "\n",
        "    conf_interval: float, optional, default = 0.95\n",
        "        Уровень доверия для построения интервала.\n",
        "        Опциональный параметр, по умолчанию, равен 0.95.\n",
        "\n",
        "    Returns\n",
        "    -------\n",
        "    conf_interval: Tuple[float]\n",
        "        Кортеж с границами доверительного интервала.\n",
        "\n",
        "    \"\"\"\n",
        "    left_bound = np.percentile(\n",
        "        scores, ((1 - conf_interval) / 2) * 100\n",
        "    )\n",
        "    right_bound = np.percentile(\n",
        "        scores, (conf_interval + ((1 - conf_interval) / 2)) * 100\n",
        "    )\n",
        "\n",
        "    return left_bound, right_bound"
      ],
      "execution_count": null,
      "outputs": []
    },
    {
      "cell_type": "code",
      "metadata": {
        "colab": {
          "base_uri": "https://localhost:8080/"
        },
        "id": "MWyU57E6TBEh",
        "outputId": "4412b280-4fdc-46d1-e4a2-c6ece3ff50fc"
      },
      "source": [
        "np.random.seed(27)\n",
        "scores = create_bootstrap_metrics(y_lb, model.predict_proba(X_lb)[:, 1:], roc_auc_score)\n",
        "calculate_confidence_interval(scores)"
      ],
      "execution_count": null,
      "outputs": [
        {
          "output_type": "execute_result",
          "data": {
            "text/plain": [
              "(0.8489801142673735, 0.8625927851804445)"
            ]
          },
          "metadata": {},
          "execution_count": 14
        }
      ]
    },
    {
      "cell_type": "markdown",
      "metadata": {
        "id": "0GMJ6LIITHSk"
      },
      "source": [
        "- Hold-Out валидация на 3 выборках устойчива"
      ]
    },
    {
      "cell_type": "markdown",
      "metadata": {
        "id": "sVAYedZOTs3q"
      },
      "source": [
        "# Задание 4"
      ]
    },
    {
      "cell_type": "code",
      "metadata": {
        "id": "QVSQGquWTBHB"
      },
      "source": [
        "X_adv = pd.concat([X_data, X_lb], axis=0)\n",
        "y_adv = np.hstack((np.zeros(X_data.shape[0]), np.ones(X_lb.shape[0])))\n",
        "assert X_adv.shape[0] == y_adv.shape[0]"
      ],
      "execution_count": null,
      "outputs": []
    },
    {
      "cell_type": "code",
      "metadata": {
        "colab": {
          "base_uri": "https://localhost:8080/"
        },
        "id": "r7syZvuaTBJx",
        "outputId": "db2386dd-91a3-49f0-efc7-3603cbe22a78"
      },
      "source": [
        "model = xgb.XGBClassifier(n_estimators=25)\n",
        "model.fit(X_adv, y_adv)"
      ],
      "execution_count": null,
      "outputs": [
        {
          "output_type": "execute_result",
          "data": {
            "text/plain": [
              "XGBClassifier(base_score=0.5, booster='gbtree', colsample_bylevel=1,\n",
              "              colsample_bynode=1, colsample_bytree=1, gamma=0,\n",
              "              learning_rate=0.1, max_delta_step=0, max_depth=3,\n",
              "              min_child_weight=1, missing=None, n_estimators=25, n_jobs=1,\n",
              "              nthread=None, objective='binary:logistic', random_state=0,\n",
              "              reg_alpha=0, reg_lambda=1, scale_pos_weight=1, seed=None,\n",
              "              silent=None, subsample=1, verbosity=1)"
            ]
          },
          "metadata": {},
          "execution_count": 16
        }
      ]
    },
    {
      "cell_type": "code",
      "metadata": {
        "colab": {
          "base_uri": "https://localhost:8080/"
        },
        "id": "QGyxFoccTBPU",
        "outputId": "2f41e2fc-8733-4f3b-e1b1-de2137c0b1a2"
      },
      "source": [
        "y_pred_adv = model.predict_proba(X_adv)\n",
        "score = roc_auc_score(y_adv, y_pred_adv[:, 1])\n",
        "print(round(score, 4))"
      ],
      "execution_count": null,
      "outputs": [
        {
          "output_type": "stream",
          "name": "stdout",
          "text": [
            "1.0\n"
          ]
        }
      ]
    },
    {
      "cell_type": "code",
      "metadata": {
        "colab": {
          "base_uri": "https://localhost:8080/"
        },
        "id": "cHTlDi-DT5DR",
        "outputId": "032fad96-cdc8-44f6-c0b4-5174105c7d63"
      },
      "source": [
        "y_pred = model.predict_proba(X_data)\n",
        "y_pred"
      ],
      "execution_count": null,
      "outputs": [
        {
          "output_type": "execute_result",
          "data": {
            "text/plain": [
              "array([[0.96031356, 0.03968643],\n",
              "       [0.96031356, 0.03968643],\n",
              "       [0.96031356, 0.03968643],\n",
              "       ...,\n",
              "       [0.96031356, 0.03968643],\n",
              "       [0.96031356, 0.03968643],\n",
              "       [0.96031356, 0.03968643]], dtype=float32)"
            ]
          },
          "metadata": {},
          "execution_count": 18
        }
      ]
    },
    {
      "cell_type": "code",
      "metadata": {
        "colab": {
          "base_uri": "https://localhost:8080/"
        },
        "id": "yEghqbsLT5Gi",
        "outputId": "924c15d1-aca0-4d6f-ee3f-79993aac6f4b"
      },
      "source": [
        "pd.cut(y_pred[:, 1], bins=np.arange(0, 1.01, 0.1)).value_counts().sort_index()"
      ],
      "execution_count": null,
      "outputs": [
        {
          "output_type": "execute_result",
          "data": {
            "text/plain": [
              "(0.0, 0.1]    180000\n",
              "(0.1, 0.2]         0\n",
              "(0.2, 0.3]         0\n",
              "(0.3, 0.4]         0\n",
              "(0.4, 0.5]         0\n",
              "(0.5, 0.6]         0\n",
              "(0.6, 0.7]         0\n",
              "(0.7, 0.8]         0\n",
              "(0.8, 0.9]         0\n",
              "(0.9, 1.0]         0\n",
              "dtype: int64"
            ]
          },
          "metadata": {},
          "execution_count": 19
        }
      ]
    },
    {
      "cell_type": "markdown",
      "metadata": {
        "id": "VzqDfm4TUFYK"
      },
      "source": [
        "- все объекты обучаемой выборки похожи на объекты валидационной выборки\n",
        "- можно использовать для обучения модели."
      ]
    },
    {
      "cell_type": "markdown",
      "metadata": {
        "id": "ygLXROjUUZey"
      },
      "source": [
        "# Задание 5"
      ]
    },
    {
      "cell_type": "code",
      "metadata": {
        "id": "tH920ehGT5JR"
      },
      "source": [
        "def make_cross_validation(X: pd.DataFrame,\n",
        "                          y: pd.Series,\n",
        "                          estimator: object,\n",
        "                          metric: callable,\n",
        "                          cv_strategy):\n",
        "    \"\"\"\n",
        "    Кросс-валидация.\n",
        "\n",
        "    Parameters\n",
        "    ----------\n",
        "    X: pd.DataFrame\n",
        "        Матрица признаков.\n",
        "\n",
        "    y: pd.Series\n",
        "        Вектор целевой переменной.\n",
        "\n",
        "    estimator: callable\n",
        "        Объект модели для обучения.\n",
        "\n",
        "    metric: callable\n",
        "        Метрика для оценки качества решения.\n",
        "        Ожидается, что на вход будет передана функция,\n",
        "        которая принимает 2 аргумента: y_true, y_pred.\n",
        "\n",
        "    cv_strategy: cross-validation generator\n",
        "        Объект для описания стратегии кросс-валидации.\n",
        "        Ожидается, что на вход будет передан объект типа\n",
        "        KFold или StratifiedKFold.\n",
        "\n",
        "    Returns\n",
        "    -------\n",
        "    oof_score: float\n",
        "        Значение метрики качества на OOF-прогнозах.\n",
        "\n",
        "    fold_train_scores: List[float]\n",
        "        Значение метрики качества на каждом обучающем датасете кросс-валидации.\n",
        "\n",
        "    fold_valid_scores: List[float]\n",
        "        Значение метрики качества на каждом валидационном датасете кросс-валидации.\n",
        "\n",
        "    oof_predictions: np.array\n",
        "        Прогнозы на OOF.\n",
        "\n",
        "    \"\"\"\n",
        "    estimators, fold_train_scores, fold_valid_scores = [], [], []\n",
        "    oof_predictions = np.zeros(X.shape[0])\n",
        "\n",
        "    for fold_number, (train_idx, valid_idx) in enumerate(cv_strategy.split(X, y)):\n",
        "        x_train, x_valid = X.loc[train_idx], X.loc[valid_idx]\n",
        "        y_train, y_valid = y.loc[train_idx], y.loc[valid_idx]\n",
        "\n",
        "        estimator.fit(x_train, y_train)\n",
        "        y_train_pred = estimator.predict(x_train)\n",
        "        y_valid_pred = estimator.predict(x_valid)\n",
        "\n",
        "        fold_train_scores.append(metric(y_train, y_train_pred))\n",
        "        fold_valid_scores.append(metric(y_valid, y_valid_pred))\n",
        "        oof_predictions[valid_idx] = y_valid_pred\n",
        "\n",
        "        msg = (\n",
        "            f\"Fold: {fold_number+1}, train-observations = {len(train_idx)}, \"\n",
        "            f\"valid-observations = {len(valid_idx)}\\n\"\n",
        "            f\"train-score = {round(fold_train_scores[fold_number], 4)}, \"\n",
        "            f\"valid-score = {round(fold_valid_scores[fold_number], 4)}\" \n",
        "        )\n",
        "        print(msg)\n",
        "        print(\"=\"*69)\n",
        "        estimators.append(estimator)\n",
        "\n",
        "    oof_score = metric(y, oof_predictions)\n",
        "    print(f\"CV-results train: {round(np.mean(fold_train_scores), 4)} +/- {round(np.std(fold_train_scores), 3)}\")\n",
        "    print(f\"CV-results valid: {round(np.mean(fold_valid_scores), 4)} +/- {round(np.std(fold_valid_scores), 3)}\")\n",
        "    print(f\"OOF-score = {round(oof_score, 4)}\")\n",
        "\n",
        "    return estimators, oof_score, fold_train_scores, fold_valid_scores, oof_predictions"
      ],
      "execution_count": null,
      "outputs": []
    },
    {
      "cell_type": "code",
      "metadata": {
        "colab": {
          "base_uri": "https://localhost:8080/"
        },
        "id": "hmLXCKAQUpUC",
        "outputId": "77fafd07-5901-4464-de1e-2f91e4822ea6"
      },
      "source": [
        "cv_strategy = KFold(n_splits=5, random_state=1)\n",
        "estimators, oof_score, fold_train_scores, fold_valid_scores, oof_predictions = make_cross_validation(\n",
        "    X_data, y_data, model, metric=roc_auc_score, cv_strategy=cv_strategy\n",
        ")"
      ],
      "execution_count": null,
      "outputs": [
        {
          "output_type": "stream",
          "name": "stdout",
          "text": [
            "Fold: 1, train-observations = 144000, valid-observations = 36000\n",
            "train-score = 0.607, valid-score = 0.5547\n",
            "=====================================================================\n",
            "Fold: 2, train-observations = 144000, valid-observations = 36000\n",
            "train-score = 0.6125, valid-score = 0.5865\n",
            "=====================================================================\n",
            "Fold: 3, train-observations = 144000, valid-observations = 36000\n",
            "train-score = 0.6048, valid-score = 0.614\n",
            "=====================================================================\n",
            "Fold: 4, train-observations = 144000, valid-observations = 36000\n",
            "train-score = 0.5971, valid-score = 0.5994\n",
            "=====================================================================\n",
            "Fold: 5, train-observations = 144000, valid-observations = 36000\n",
            "train-score = 0.593, valid-score = 0.59\n",
            "=====================================================================\n",
            "CV-results train: 0.6029 +/- 0.007\n",
            "CV-results valid: 0.5889 +/- 0.02\n",
            "OOF-score = 0.5878\n"
          ]
        }
      ]
    },
    {
      "cell_type": "code",
      "metadata": {
        "colab": {
          "base_uri": "https://localhost:8080/"
        },
        "id": "9aokzsg2UpW5",
        "outputId": "15b1d809-3e42-444c-aab8-6ec297bc5221"
      },
      "source": [
        "cv_strategy = KFold(n_splits=5, random_state=1)\n",
        "estimators, oof_score, fold_train_scores, fold_valid_scores, oof_predictions = make_cross_validation(\n",
        "    X_lb, y_lb, model, metric=roc_auc_score, cv_strategy=cv_strategy\n",
        ")"
      ],
      "execution_count": null,
      "outputs": [
        {
          "output_type": "stream",
          "name": "stdout",
          "text": [
            "Fold: 1, train-observations = 80000, valid-observations = 20001\n",
            "train-score = 0.6136, valid-score = 0.596\n",
            "=====================================================================\n",
            "Fold: 2, train-observations = 80001, valid-observations = 20000\n",
            "train-score = 0.6116, valid-score = 0.5867\n",
            "=====================================================================\n",
            "Fold: 3, train-observations = 80001, valid-observations = 20000\n",
            "train-score = 0.6113, valid-score = 0.5666\n",
            "=====================================================================\n",
            "Fold: 4, train-observations = 80001, valid-observations = 20000\n",
            "train-score = 0.6076, valid-score = 0.6172\n",
            "=====================================================================\n",
            "Fold: 5, train-observations = 80001, valid-observations = 20000\n",
            "train-score = 0.6051, valid-score = 0.6143\n",
            "=====================================================================\n",
            "CV-results train: 0.6098 +/- 0.003\n",
            "CV-results valid: 0.5961 +/- 0.019\n",
            "OOF-score = 0.5984\n"
          ]
        }
      ]
    },
    {
      "cell_type": "markdown",
      "metadata": {
        "id": "ZW_KFOP2VC0K"
      },
      "source": [
        "- KFold валидация является устойчивой"
      ]
    },
    {
      "cell_type": "markdown",
      "metadata": {
        "id": "ouFc8zuiVMM6"
      },
      "source": [
        "# Задание 6"
      ]
    },
    {
      "cell_type": "code",
      "metadata": {
        "colab": {
          "base_uri": "https://localhost:8080/"
        },
        "id": "6nbPyt7TUpZy",
        "outputId": "6f6259b0-3284-4cba-cc03-992379a5fbae"
      },
      "source": [
        "cv = TimeSeriesSplit()\n",
        "for train_index, test_index in cv.split(X_data):\n",
        "    X_train, X_valid = X_data.loc[train_index], X_data.loc[test_index]\n",
        "    y_train, y_valid = y_data[train_index], y_data[test_index]   \n",
        "X_train.shape,  X_valid.shape, y_train.shape, y_valid.shape"
      ],
      "execution_count": null,
      "outputs": [
        {
          "output_type": "execute_result",
          "data": {
            "text/plain": [
              "((150000, 379), (30000, 379), (150000,), (30000,))"
            ]
          },
          "metadata": {},
          "execution_count": 23
        }
      ]
    },
    {
      "cell_type": "code",
      "metadata": {
        "colab": {
          "base_uri": "https://localhost:8080/"
        },
        "id": "Y4Cd3sjcUpci",
        "outputId": "7529abb1-a456-42c4-b015-cb641b06cebf"
      },
      "source": [
        "model = xgb.XGBClassifier(random_state=5)\n",
        "model.fit(X=X_train, y=y_train,\n",
        "            eval_set=[(X_train, y_train), (X_valid, y_valid)], \n",
        "            early_stopping_rounds=20,\n",
        "            eval_metric=\"auc\",\n",
        "            verbose=20)"
      ],
      "execution_count": null,
      "outputs": [
        {
          "output_type": "stream",
          "name": "stdout",
          "text": [
            "[0]\tvalidation_0-auc:0.638528\tvalidation_1-auc:0.628491\n",
            "Multiple eval metrics have been passed: 'validation_1-auc' will be used for early stopping.\n",
            "\n",
            "Will train until validation_1-auc hasn't improved in 20 rounds.\n",
            "[20]\tvalidation_0-auc:0.817302\tvalidation_1-auc:0.809263\n",
            "[40]\tvalidation_0-auc:0.869654\tvalidation_1-auc:0.84572\n",
            "[60]\tvalidation_0-auc:0.886744\tvalidation_1-auc:0.859966\n",
            "[80]\tvalidation_0-auc:0.894275\tvalidation_1-auc:0.865203\n",
            "[99]\tvalidation_0-auc:0.899564\tvalidation_1-auc:0.86813\n"
          ]
        },
        {
          "output_type": "execute_result",
          "data": {
            "text/plain": [
              "XGBClassifier(base_score=0.5, booster='gbtree', colsample_bylevel=1,\n",
              "              colsample_bynode=1, colsample_bytree=1, gamma=0,\n",
              "              learning_rate=0.1, max_delta_step=0, max_depth=3,\n",
              "              min_child_weight=1, missing=None, n_estimators=100, n_jobs=1,\n",
              "              nthread=None, objective='binary:logistic', random_state=5,\n",
              "              reg_alpha=0, reg_lambda=1, scale_pos_weight=1, seed=None,\n",
              "              silent=None, subsample=1, verbosity=1)"
            ]
          },
          "metadata": {},
          "execution_count": 24
        }
      ]
    },
    {
      "cell_type": "code",
      "metadata": {
        "colab": {
          "base_uri": "https://localhost:8080/"
        },
        "id": "fNQdwID2T5MT",
        "outputId": "8447dd49-3a6d-4810-e624-7d7fd54319c5"
      },
      "source": [
        "r1=roc_auc_score(y_train, model.predict_proba(X_train)[:, 1:])\n",
        "r2=roc_auc_score(y_valid, model.predict_proba(X_valid)[:, 1:])\n",
        "r3=roc_auc_score(y_lb, model.predict_proba(X_lb)[:, 1:])\n",
        "print (f'roc_auc_score: {r1.round(3)}, {r2.round(3)}, {r3.round(3)} ')"
      ],
      "execution_count": null,
      "outputs": [
        {
          "output_type": "stream",
          "name": "stdout",
          "text": [
            "roc_auc_score: 0.9, 0.868, 0.854 \n"
          ]
        }
      ]
    },
    {
      "cell_type": "code",
      "metadata": {
        "colab": {
          "base_uri": "https://localhost:8080/"
        },
        "id": "JfWYUvoLVqLV",
        "outputId": "76046276-35eb-4d4d-e879-f237d7ddd9b8"
      },
      "source": [
        "np.random.seed(27)\n",
        "scores = create_bootstrap_metrics(y_lb, model.predict_proba(X_lb)[:, 1:], roc_auc_score)\n",
        "calculate_confidence_interval(scores)"
      ],
      "execution_count": null,
      "outputs": [
        {
          "output_type": "execute_result",
          "data": {
            "text/plain": [
              "(0.8468448419251747, 0.860623234697544)"
            ]
          },
          "metadata": {},
          "execution_count": 26
        }
      ]
    },
    {
      "cell_type": "markdown",
      "metadata": {
        "id": "cZaMFk8EVzFj"
      },
      "source": [
        "- присутствует существенный разрыв между метриками обучающей и ЛБ выборки, что говорит о неустойчивости."
      ]
    },
    {
      "cell_type": "markdown",
      "metadata": {
        "id": "FbPmDBEDWSJi"
      },
      "source": [
        "# Задание 7"
      ]
    },
    {
      "cell_type": "code",
      "metadata": {
        "id": "URjs9p2dWX4I"
      },
      "source": [
        "def get_clientID(data):\n",
        "    \n",
        "    for n, k in enumerate(data['ProductCD'].value_counts().keys()):\n",
        "        data.loc[data['ProductCD'] == k, 'ProdCD'] = n\n",
        "    data['ProdCD'] = data['ProdCD'].astype(np.int8)\n",
        "\n",
        "    data.loc[data['P_emaildomain'].isnull(), 'P_emaildomain'] = 'nan'\n",
        "    for n, k in enumerate(data['P_emaildomain'].value_counts().keys()):\n",
        "        data.loc[data['P_emaildomain'] == k, 'P_email'] = n\n",
        "    data['P_email'] = data['P_email'].astype(np.int8)\n",
        "\n",
        "    data['ClientID'] = data['ProdCD'].astype(str) + data['card1'].astype(str) + data['P_email'].astype(str)\n",
        "    data['ClientID'] = data['ClientID'].astype(np.int32)\n",
        "\n",
        "    data = data.drop(['ProdCD', 'P_email'], axis=1)\n",
        "    \n",
        "    num_features = data.select_dtypes(exclude=[np.object]).columns.to_list()\n",
        "    data_num = data[num_features]\n",
        "    \n",
        "    X_data = data_num.drop('isFraud', axis=1)\n",
        "    y_data = data_num['isFraud']\n",
        "    \n",
        "    return X_data, y_data"
      ],
      "execution_count": null,
      "outputs": []
    },
    {
      "cell_type": "code",
      "metadata": {
        "id": "CP9-Kfi5WX65"
      },
      "source": [
        "X_data, y_data = get_clientID(data)\n",
        "X_lb, y_lb = get_clientID(lb)"
      ],
      "execution_count": null,
      "outputs": []
    },
    {
      "cell_type": "code",
      "metadata": {
        "id": "6E89-Z5GWX-C"
      },
      "source": [
        "def make_cross_validation_groups(X: pd.DataFrame,\n",
        "                              y: pd.Series,\n",
        "                              estimator: object,\n",
        "                              metric: callable,\n",
        "                              cv_strategy,\n",
        "                              groups):\n",
        "\n",
        "    estimators, fold_train_scores, fold_valid_scores = [], [], []\n",
        "    oof_predictions = np.zeros(X.shape[0])\n",
        "\n",
        "    for fold_number, (train_idx, valid_idx) in enumerate(cv_strategy.split(X, y, groups=X[groups])):\n",
        "        x_train, x_valid = X.loc[train_idx], X.loc[valid_idx]\n",
        "        y_train, y_valid = y.loc[train_idx], y.loc[valid_idx]\n",
        "\n",
        "        estimator.fit(x_train, y_train)\n",
        "        y_train_pred = estimator.predict(x_train)\n",
        "        y_valid_pred = estimator.predict(x_valid)\n",
        "\n",
        "        fold_train_scores.append(metric(y_train, y_train_pred))\n",
        "        fold_valid_scores.append(metric(y_valid, y_valid_pred))\n",
        "        oof_predictions[valid_idx] = y_valid_pred\n",
        "\n",
        "        msg = (\n",
        "            f\"Fold: {fold_number+1}, train-observations = {len(train_idx)}, \"\n",
        "            f\"valid-observations = {len(valid_idx)}\\n\"\n",
        "            f\"train-score = {round(fold_train_scores[fold_number], 4)}, \"\n",
        "            f\"valid-score = {round(fold_valid_scores[fold_number], 4)}\" \n",
        "        )\n",
        "        print(msg)\n",
        "        print(\"=\"*69)\n",
        "        estimators.append(estimator)\n",
        "\n",
        "    oof_score = metric(y, oof_predictions)\n",
        "    print(f\"CV-results train: {round(np.mean(fold_train_scores), 4)} +/- {round(np.std(fold_train_scores), 3)}\")\n",
        "    print(f\"CV-results valid: {round(np.mean(fold_valid_scores), 4)} +/- {round(np.std(fold_valid_scores), 3)}\")\n",
        "    print(f\"OOF-score = {round(oof_score, 4)}\")\n",
        "\n",
        "    return estimators, oof_score, fold_train_scores, fold_valid_scores, oof_predictions"
      ],
      "execution_count": null,
      "outputs": []
    },
    {
      "cell_type": "code",
      "metadata": {
        "colab": {
          "base_uri": "https://localhost:8080/"
        },
        "id": "NXbkDUq0WYAw",
        "outputId": "5cc5e623-6e31-4e57-8b17-2e388775d29f"
      },
      "source": [
        "cv_strategy = GroupKFold(n_splits=5)\n",
        "estimators, oof_score, fold_train_scores, fold_valid_scores, oof_predictions = make_cross_validation_groups(\n",
        "    X_data, y_data, model, metric=roc_auc_score, cv_strategy=cv_strategy, groups='ClientID')"
      ],
      "execution_count": null,
      "outputs": [
        {
          "output_type": "stream",
          "name": "stdout",
          "text": [
            "Fold: 1, train-observations = 144000, valid-observations = 36000\n",
            "train-score = 0.6616, valid-score = 0.6158\n",
            "=====================================================================\n",
            "Fold: 2, train-observations = 144000, valid-observations = 36000\n",
            "train-score = 0.6536, valid-score = 0.638\n",
            "=====================================================================\n",
            "Fold: 3, train-observations = 144000, valid-observations = 36000\n",
            "train-score = 0.6621, valid-score = 0.6474\n",
            "=====================================================================\n",
            "Fold: 4, train-observations = 144000, valid-observations = 36000\n",
            "train-score = 0.6613, valid-score = 0.6169\n",
            "=====================================================================\n",
            "Fold: 5, train-observations = 144000, valid-observations = 36000\n",
            "train-score = 0.657, valid-score = 0.6214\n",
            "=====================================================================\n",
            "CV-results train: 0.6591 +/- 0.003\n",
            "CV-results valid: 0.6279 +/- 0.013\n",
            "OOF-score = 0.629\n"
          ]
        }
      ]
    },
    {
      "cell_type": "code",
      "metadata": {
        "colab": {
          "base_uri": "https://localhost:8080/"
        },
        "id": "LVbLop88Wri7",
        "outputId": "501dc9e0-5695-4bf0-9266-0de60b02f08b"
      },
      "source": [
        "cv_strategy = GroupKFold(n_splits=5)\n",
        "estimators, oof_score, fold_train_scores, fold_valid_scores, oof_predictions = make_cross_validation_groups(\n",
        "    X_lb, y_lb, model, metric=roc_auc_score, cv_strategy=cv_strategy, groups='ClientID')"
      ],
      "execution_count": null,
      "outputs": [
        {
          "output_type": "stream",
          "name": "stdout",
          "text": [
            "Fold: 1, train-observations = 80000, valid-observations = 20001\n",
            "train-score = 0.6585, valid-score = 0.6589\n",
            "=====================================================================\n",
            "Fold: 2, train-observations = 80001, valid-observations = 20000\n",
            "train-score = 0.6668, valid-score = 0.6106\n",
            "=====================================================================\n",
            "Fold: 3, train-observations = 80001, valid-observations = 20000\n",
            "train-score = 0.6604, valid-score = 0.6502\n",
            "=====================================================================\n",
            "Fold: 4, train-observations = 80001, valid-observations = 20000\n",
            "train-score = 0.6622, valid-score = 0.6249\n",
            "=====================================================================\n",
            "Fold: 5, train-observations = 80001, valid-observations = 20000\n",
            "train-score = 0.6676, valid-score = 0.6157\n",
            "=====================================================================\n",
            "CV-results train: 0.6631 +/- 0.004\n",
            "CV-results valid: 0.6321 +/- 0.019\n",
            "OOF-score = 0.6332\n"
          ]
        }
      ]
    },
    {
      "cell_type": "markdown",
      "metadata": {
        "id": "TPHjRzHmWxzh"
      },
      "source": [
        "- валидация GroupKFold по предположительному клиенту стабильна."
      ]
    }
  ]
}